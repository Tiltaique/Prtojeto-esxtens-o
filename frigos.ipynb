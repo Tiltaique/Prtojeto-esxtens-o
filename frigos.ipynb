{
 "cells": [
  {
   "cell_type": "code",
   "execution_count": 1,
   "metadata": {},
   "outputs": [],
   "source": [
    "import pandas as pd\n",
    "\n",
    "# Carregar a base de dados\n",
    "df = pd.read_csv('frigos_base.csv')"
   ]
  },
  {
   "cell_type": "code",
   "execution_count": null,
   "metadata": {},
   "outputs": [],
   "source": [
    "# Exibir as primeiras linhas do dataframe para conferir a estrutura\n",
    "print(df.head())"
   ]
  },
  {
   "cell_type": "code",
   "execution_count": null,
   "metadata": {},
   "outputs": [],
   "source": [
    "# 1. Limpeza de Dados\n",
    "# Verificar e remover dados ausentes\n",
    "df.isnull().sum()  # Checar valores ausentes"
   ]
  },
  {
   "cell_type": "code",
   "execution_count": 4,
   "metadata": {},
   "outputs": [],
   "source": [
    "# Substituir valores ausentes ou eliminar linhas, se necessário\n",
    "df = df.dropna()  # Ou df.fillna(0) para preencher valores ausentes com zero"
   ]
  },
  {
   "cell_type": "code",
   "execution_count": 6,
   "metadata": {},
   "outputs": [],
   "source": [
    "# 2. Processamento de Dados\n",
    "# Converter a coluna 'Data da Venda' para datetime\n",
    "df['Data'] = pd.to_datetime(df['Data'], format='%Y-%m-%d')"
   ]
  },
  {
   "cell_type": "code",
   "execution_count": 7,
   "metadata": {},
   "outputs": [],
   "source": [
    "# Calcular o total de vendas por categoria\n",
    "total_vendas_categoria = df.groupby('Produto')['Total_Venda'].sum()"
   ]
  },
  {
   "cell_type": "code",
   "execution_count": 8,
   "metadata": {},
   "outputs": [],
   "source": [
    "# Calcular o total de vendas por região\n",
    "total_vendas_regiao = df.groupby('Região')['Total_Venda'].sum()"
   ]
  },
  {
   "cell_type": "code",
   "execution_count": 9,
   "metadata": {},
   "outputs": [],
   "source": [
    "# Calcular o total de vendas mensalmente\n",
    "df['Ano-Mês'] = df['Data'].dt.to_period('M')\n",
    "total_vendas_mensal = df.groupby('Ano-Mês')['Total_Venda'].sum()"
   ]
  },
  {
   "cell_type": "code",
   "execution_count": null,
   "metadata": {},
   "outputs": [],
   "source": [
    "\n",
    "# Visualização\n",
    "import matplotlib.pyplot as plt\n",
    "\n",
    "# Gráfico de Total de Vendas por Categoria\n",
    "plt.figure(figsize=(10, 6))\n",
    "total_vendas_categoria.plot(kind='bar', color='skyblue')\n",
    "plt.title('Total de Vendas por Categoria de Produto')\n",
    "plt.xlabel('Categoria do Produto')\n",
    "plt.ylabel('Total da Venda')\n",
    "plt.xticks(rotation=45)\n",
    "plt.tight_layout()\n",
    "plt.savefig('vendas_categoria.png')\n",
    "plt.show()\n"
   ]
  },
  {
   "cell_type": "code",
   "execution_count": null,
   "metadata": {},
   "outputs": [],
   "source": [
    "# Gráfico de Total de Vendas Mensal\n",
    "plt.figure(figsize=(12, 6))\n",
    "total_vendas_mensal.plot(kind='line', marker='o', color='orange')\n",
    "plt.title('Total de Vendas Mensal')\n",
    "plt.xlabel('Ano-Mês')\n",
    "plt.ylabel('Total da Venda')\n",
    "plt.xticks(rotation=45)\n",
    "plt.tight_layout()\n",
    "plt.savefig('vendas_mensal.png')\n",
    "plt.show()"
   ]
  }
 ],
 "metadata": {
  "kernelspec": {
   "display_name": "venv",
   "language": "python",
   "name": "python3"
  },
  "language_info": {
   "codemirror_mode": {
    "name": "ipython",
    "version": 3
   },
   "file_extension": ".py",
   "mimetype": "text/x-python",
   "name": "python",
   "nbconvert_exporter": "python",
   "pygments_lexer": "ipython3",
   "version": "3.11.4"
  }
 },
 "nbformat": 4,
 "nbformat_minor": 2
}
